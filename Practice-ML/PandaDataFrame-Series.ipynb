{
 "cells": [
  {
   "cell_type": "markdown",
   "id": "1ab0e18d",
   "metadata": {},
   "source": [
    "# Pandas is a Python library providing high-performance, easy-to-use data structures and data analysis tools. The two primary data structures in pandas are the Series and the DataFrame.\n",
    "#Pandas Series:\n",
    "A Series is a one-dimensional labeled array capable of holding any data type (integers, strings, floats, Python objects, etc.).\n",
    "It can be thought of as a single column of data in a spreadsheet or a database table.\n",
    "Each element in a Series has an associated index, providing a label for that data point. If not explicitly defined, a default integer index (0, 1, 2, ...) is assigned. \n",
    "\n",
    "# Pandas DataFrame:\n",
    "A DataFrame is a two-dimensional labeled data structure with columns of potentially different types.\n",
    "It can be thought of as a table or spreadsheet, similar to a SQL table or an Excel sheet, with rows and columns.\n",
    "Each column in a DataFrame is essentially a Series, sharing the same index for its rows.\n",
    "DataFrames have both a row index (like a Series) and column labels."
   ]
  },
  {
   "cell_type": "code",
   "execution_count": 6,
   "id": "36d25603",
   "metadata": {},
   "outputs": [
    {
     "name": "stdout",
     "output_type": "stream",
     "text": [
      "a    10\n",
      "b    20\n",
      "c    30\n",
      "d    40\n",
      "dtype: int64\n"
     ]
    }
   ],
   "source": [
    "import pandas as pd\n",
    "\n",
    "# Creating a Series from a list\n",
    "s = pd.Series([10, 20, 30, 40], index=['a', 'b', 'c', 'd'])\n",
    "print(s)"
   ]
  },
  {
   "cell_type": "code",
   "execution_count": 8,
   "id": "b559f944",
   "metadata": {},
   "outputs": [
    {
     "name": "stdout",
     "output_type": "stream",
     "text": [
      "      Name  Age      City\n",
      "0    Alice   25  New York\n",
      "1      Bob   30    London\n",
      "2  Charlie   35     Paris\n"
     ]
    }
   ],
   "source": [
    "import pandas as pd\n",
    "\n",
    "# Creating a DataFrame from a dictionary\n",
    "data = {'Name': ['Alice', 'Bob', 'Charlie'],\n",
    "        'Age': [25, 30, 35],\n",
    "        'City': ['New York', 'London', 'Paris']}\n",
    "df = pd.DataFrame(data)\n",
    "print(df)"
   ]
  },
  {
   "cell_type": "code",
   "execution_count": 5,
   "id": "62551ebc",
   "metadata": {},
   "outputs": [
    {
     "name": "stdout",
     "output_type": "stream",
     "text": [
      "2.2.2\n"
     ]
    }
   ],
   "source": [
    "import pandas as pd\n",
    "print(pd.__version__)"
   ]
  }
 ],
 "metadata": {
  "kernelspec": {
   "display_name": "base",
   "language": "python",
   "name": "python3"
  },
  "language_info": {
   "codemirror_mode": {
    "name": "ipython",
    "version": 3
   },
   "file_extension": ".py",
   "mimetype": "text/x-python",
   "name": "python",
   "nbconvert_exporter": "python",
   "pygments_lexer": "ipython3",
   "version": "3.12.7"
  }
 },
 "nbformat": 4,
 "nbformat_minor": 5
}
